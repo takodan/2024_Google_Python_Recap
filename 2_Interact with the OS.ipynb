{
 "cells": [
  {
   "cell_type": "markdown",
   "metadata": {},
   "source": [
    "# Using Python to Interact with the Operating System"
   ]
  },
  {
   "cell_type": "markdown",
   "metadata": {},
   "source": [
    "## Module 1 Getting Your Python On\n",
    "- **Kernel**: the core of a computer’s operating system. It talks directly to our hardware and manages our systems resources.\n",
    "- **User space**: everything outside the kernel\n",
    "- **Operation system**: kernel and user space\n",
    "- **Interpreted** vs. **Compiled**\n",
    "- **Shebang**: tells the operating system what command we want to use to execute a script\n",
    "```py\n",
    "#! /usr/bin/env python3\n",
    "```\n",
    "1. `__init__.py` files are required to make Python treat directories containing the file as packages.\n",
    "    1. It marks the directory as a Python Package.\n",
    "    2. It can contain initialization code for the Package.\n",
    "2. Key points and pitfalls about **Automating**\n",
    "    1. Scalability\n",
    "    2. Pareto Principle: 80% of consequences come from 20% of causes\n",
    "    3. bit-rot: process falling out of step because of the environment\n",
    "    4. try to avoid silent failures\n",
    "    5. periodic tests\n",
    "    6. login the action (system log)\n",
    "\n"
   ]
  },
  {
   "cell_type": "markdown",
   "metadata": {},
   "source": [
    "## Module 2 Managing Files with Python\n",
    "1. `open()` `read()` `write()` `close()`"
   ]
  },
  {
   "cell_type": "code",
   "execution_count": null,
   "metadata": {},
   "outputs": [],
   "source": [
    "file_path = \"./my_file\"\n",
    "\n",
    "f = open(file_path, 'r+')\n",
    "print(f.read())\n",
    "f.write(\"Hello, world!\\n\")\n",
    "f.close()\n",
    "\n",
    "# same as\n",
    "with open(file_path, 'r+') as f:\n",
    "    print(f.read())\n",
    "    f.write(\"Hello, world!\\n\")\n",
    "    # automatically close file after"
   ]
  },
  {
   "cell_type": "markdown",
   "metadata": {},
   "source": [
    "2. os methods"
   ]
  },
  {
   "cell_type": "code",
   "execution_count": null,
   "metadata": {},
   "outputs": [],
   "source": [
    "import os\n",
    "\n",
    "file_name = \"sample.md\"\n",
    "\n",
    "# interact with files\n",
    "os.remove(file_name)\n",
    "os.rename(\"source\", \"destination\")\n",
    "os.path.exists(file_name) # return Boolean\n",
    "os.path.getsize(file_name) # return in bytes\n",
    "os.path.abspath(file_name) # return absolute path\n",
    "os.path.getmtime(file_name) #return a timestamp, seconds since Unix OS publishing\n",
    "\n",
    "import datetime\n",
    "timestamp = os.path.getmtime(file_name)\n",
    "datetime.datetime.fromtimestamp(timestamp) #return datetime.datetime\n",
    "\n",
    "\n",
    "dir_path = \"./\"\n",
    "new_dir_name = \"new_dir\"\n",
    "# interact with directories\n",
    "os.getcwd() # current work directory\n",
    "os.mkdir(new_dir_name)\n",
    "os.chdir(new_dir_name)\n",
    "os.chdir(\"../\")\n",
    "os.rmdir(new_dir_name) # if it's empty\n",
    "os.listdir() # return a list with all sub-directories and files\n",
    "os.path.join(new_dir_name, file_name) # create a file path\n",
    "os.path.isdir(file_path) # return True or False"
   ]
  },
  {
   "cell_type": "markdown",
   "metadata": {},
   "source": [
    "- **Parsing**: analyzing a file content to correctly structure the data.\n",
    "- **CSV**: comma separated values\n",
    "3. csv methods"
   ]
  },
  {
   "cell_type": "code",
   "execution_count": null,
   "metadata": {},
   "outputs": [],
   "source": [
    "import csv\n",
    "\n",
    "file_path = \"./movies.csv\"\n",
    "\n",
    "\n",
    "# read as lists\n",
    "with open(file_path, newline='') as csvfile:\n",
    "    reader = csv.reader(csvfile)\n",
    "    count = 0\n",
    "    for row in reader:\n",
    "        print(f\"{count}: {'; '.join(row)}\")\n",
    "        count = count + 1\n",
    "\n",
    "# read as dict\n",
    "with open(file_path, newline='') as csvfile:\n",
    "    reader = csv.DictReader(csvfile)\n",
    "    count = 0\n",
    "    for row in reader:\n",
    "        print(f\"{count}: {row}\")\n",
    "        count = count + 1\n",
    "\n",
    "\n",
    "# write with list\n",
    "# a list of movie data\n",
    "movie_data = [\n",
    "    ['Movie Title', 'Year', 'Gross Revenue'],\n",
    "    ['Avengers: Endgame', 2019, 27902000000],\n",
    "    ['Avatar', 2009, 27897000000],\n",
    "    ['Titanic', 1997, 22082000000],\n",
    "    ['Star Wars: The Force Awakens', 2015, 20533000000],\n",
    "    ['Avengers: Infinity War', 2018, 20481000000]\n",
    "]\n",
    "# open a CSV file and write the data\n",
    "with open(file_path, 'w', newline='') as csvfile:\n",
    "    writer = csv.writer(csvfile)\n",
    "    for row in movie_data:\n",
    "        writer.writerow(row)\n",
    "\n",
    "\n",
    "# write with dict\n",
    "# a dict of movie data\n",
    "movie_data = [\n",
    "    {'Movie Title': 'Avengers: Endgame', 'Year': 2019, 'Gross Revenue': 27902000000},\n",
    "    {'Movie Title': 'Avatar', 'Year': 2009, 'Gross Revenue': 27897000000},\n",
    "]\n",
    "\n",
    "with open(file_path, 'w', newline='') as csvfile:\n",
    "    fieldnames = ['Movie Title', 'Year', 'Gross Revenue']\n",
    "    writer = csv.DictWriter(csvfile, fieldnames=fieldnames)\n",
    "\n",
    "    # Write the header row\n",
    "    writer.writeheader()\n",
    "\n",
    "    # Write the data rows\n",
    "    for row in movie_data:\n",
    "        writer.writerow(row)"
   ]
  }
 ],
 "metadata": {
  "kernelspec": {
   "display_name": ".venv",
   "language": "python",
   "name": "python3"
  },
  "language_info": {
   "codemirror_mode": {
    "name": "ipython",
    "version": 3
   },
   "file_extension": ".py",
   "mimetype": "text/x-python",
   "name": "python",
   "nbconvert_exporter": "python",
   "pygments_lexer": "ipython3",
   "version": "3.12.4"
  }
 },
 "nbformat": 4,
 "nbformat_minor": 2
}
