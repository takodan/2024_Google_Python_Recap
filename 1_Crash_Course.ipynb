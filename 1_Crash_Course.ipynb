{
 "cells": [
  {
   "cell_type": "markdown",
   "metadata": {},
   "source": [
    "# Crash Course on Python"
   ]
  },
  {
   "cell_type": "markdown",
   "metadata": {},
   "source": [
    "## Module 1 Hello Python!\n",
    "1. Functions are pieces of code that perform a unit of work.\n",
    "2. Keywords are reserved words that are used to construct instructions.\n",
    "3. Arithmetic operators: `+` `-` `*` `/` `**` `//` `%`"
   ]
  },
  {
   "cell_type": "markdown",
   "metadata": {},
   "source": [
    "## Module 2 Basic Python Syntax\n",
    "### 1. Data Type\n",
    "- Expression: A combination of variables and symbols that produce a result.\n",
    "- Implicit conversion: It automatically converts one data type to another (Explicit: we manually convert from one data type to another).\n",
    "### 2. Function\n",
    "1. function structure\n",
    "```py\n",
    "def function_name(parameters):\n",
    "    # body of statement\n",
    "    return expression\n",
    "```\n",
    "- Self-documenting code: Code is readable and doesn’t conceal its intent\n",
    "- Refactoring: re-write code to be more self-documenting\n",
    "### 3. Conditionals\n",
    "1. Comparison Operators: `==` `!=` `>` `<`\n",
    "2. Logical operators: `and` `or` `not`\n",
    "- Branching: To have our code alter its execution sequence depending on the values of variables. It allows you to control the flow of your code's execution based on conditions.\n",
    "3. Branching blocks\n",
    "```py\n",
    "if condition1:\n",
    "\t# if_block\n",
    "elif condition2:\n",
    "\t# elif_block\n",
    "else:\n",
    "\t# else_block\n",
    "```"
   ]
  },
  {
   "cell_type": "markdown",
   "metadata": {},
   "source": [
    "## Module 3 Loops\n",
    "### 1. While Loops\n",
    "1. Remember to initialize variables and watch out for the infinite loops when using a while loop.\n",
    "2. Using `break` to break out a loop, interrupts a cycle due to a separate condition.\n",
    "3. Using `continue` to skip the current iteration and continue with the next one\n",
    "### 2. For Loops\n",
    "1. A for loops with a range function\n",
    "```py\n",
    "for n in range(start, stop, step):\n",
    "    pass\n",
    "# you can use a negative number in a range\n",
    "for x in range(2, -2, -1):\n",
    "    pass\n",
    "```\n",
    "### 3. Recursion\n",
    "1. A recursive function structure\n",
    "```py\n",
    "def recursive_function(parameters):\n",
    "    if base_case_condition(parameters):\n",
    "        return base_case_value\n",
    "    recursive_function(modified_parameters)\n",
    "```"
   ]
  },
  {
   "cell_type": "markdown",
   "metadata": {},
   "source": [
    "## Module 4 Strings, Lists and Dictionaries\n",
    "### 1. Strings\n",
    "1. String Slicing"
   ]
  },
  {
   "cell_type": "code",
   "execution_count": 12,
   "metadata": {},
   "outputs": [
    {
     "name": "stdout",
     "output_type": "stream",
     "text": [
      "ang\n",
      "Mango\n",
      "Mangosteen\n"
     ]
    }
   ],
   "source": [
    "fruit = \"Mangosteen\" # 山竹\n",
    "print(fruit[1:4])\n",
    "print(fruit[:5])\n",
    "print(fruit[:5] + fruit[5:])"
   ]
  },
  {
   "cell_type": "markdown",
   "metadata": {},
   "source": [
    "2. Strings are immutable.\n",
    "3. String Methods (in the Cheat Sheet)\n",
    "4. format() method"
   ]
  },
  {
   "cell_type": "code",
   "execution_count": 14,
   "metadata": {},
   "outputs": [
    {
     "name": "stdout",
     "output_type": "stream",
     "text": [
      "pi = |      3.14|\n"
     ]
    }
   ],
   "source": [
    "number = 3.14159\n",
    "print(\"pi = |{:>10.2f}|\".format(number)) # pi =      3.14"
   ]
  },
  {
   "cell_type": "markdown",
   "metadata": {},
   "source": [
    "5. Formatting expressions"
   ]
  },
  {
   "cell_type": "code",
   "execution_count": 11,
   "metadata": {},
   "outputs": [
    {
     "name": "stdout",
     "output_type": "stream",
     "text": [
      "0.50\n",
      ".Py.\n",
      ".Py    .\n",
      ".    Py.\n",
      ".  Py  .\n"
     ]
    }
   ],
   "source": [
    "#floating point with that many decimals\n",
    "print(\"{:.2f}\".format(0.5)) # '0.50'\n",
    "#string with that many characters\n",
    "print(\".{:.2s}.\".format(\"Python\"))\n",
    "#string aligned to the left that many spaces\n",
    "print(\".{:<6s}.\".format(\"Py\"))\n",
    "#string aligned to the right that many spaces\n",
    "print(\".{:>6s}.\".format(\"Py\"))\n",
    "#string centered in that many spaces\n",
    "print(\".{:^6s}.\".format(\"Py\"))"
   ]
  },
  {
   "cell_type": "markdown",
   "metadata": {},
   "source": [
    "6. f-string"
   ]
  },
  {
   "cell_type": "code",
   "execution_count": 2,
   "metadata": {},
   "outputs": [
    {
     "name": "stdout",
     "output_type": "stream",
     "text": [
      "Item: Purple Cup - Amount: 5 - Price: 15.62\n"
     ]
    }
   ],
   "source": [
    "item = \"Purple Cup\"\n",
    "amount = 5\n",
    "price = amount * 3.125\n",
    "\n",
    "print(f'Item: {item} - Amount: {amount} - Price: {price:.2f}')"
   ]
  },
  {
   "cell_type": "markdown",
   "metadata": {},
   "source": [
    "### 2. List (and Tuple)\n",
    "1. Lists are sequences and mutable.\n",
    "2. List Methods (in the Cheat Sheet)\n",
    "3. List comprehensions"
   ]
  },
  {
   "cell_type": "code",
   "execution_count": 5,
   "metadata": {},
   "outputs": [
    {
     "name": "stdout",
     "output_type": "stream",
     "text": [
      "[7, 14, 21, 28, 35]\n",
      "[0, 3, 6, 9]\n"
     ]
    }
   ],
   "source": [
    "multiples = [x*7 for x in range(1,6)]\n",
    "print(multiples)\n",
    "multiples_three = [x for x in range(0, 11) if x % 3 == 0]\n",
    "print(multiples_three)"
   ]
  },
  {
   "cell_type": "markdown",
   "metadata": {},
   "source": [
    "4. Tuples are immutable data types similar to lists.\n",
    "5. Unpacking"
   ]
  },
  {
   "cell_type": "code",
   "execution_count": 7,
   "metadata": {},
   "outputs": [
    {
     "name": "stdout",
     "output_type": "stream",
     "text": [
      "z y x\n"
     ]
    }
   ],
   "source": [
    "tuple_xyz = (\"x\", \"y\", \"z\")\n",
    "a, b, c = tuple_xyz\n",
    "print(c, b, a)"
   ]
  },
  {
   "cell_type": "markdown",
   "metadata": {},
   "source": [
    "6. enumerate function"
   ]
  },
  {
   "cell_type": "code",
   "execution_count": 10,
   "metadata": {},
   "outputs": [
    {
     "name": "stdout",
     "output_type": "stream",
     "text": [
      "index 0 is: a\n",
      "index 1 is: b\n",
      "index 2 is: c\n",
      "index 3 is: d\n"
     ]
    }
   ],
   "source": [
    "list_abcd = [\"a\", \"b\", \"c\", \"d\"]\n",
    "for index, element in enumerate(list_abcd):\n",
    "    print(f\"index {index} is: {element}\")"
   ]
  },
  {
   "cell_type": "markdown",
   "metadata": {},
   "source": [
    "### 1. Dictionary\n",
    "1. `x = {key1:value1, key2:value2}`\n",
    "2. Loop through both keys and values\n",
    "```py\n",
    "for x, y in thisdict.items():\n",
    "  print(x, y)\n",
    "```\n",
    "3. Dictionary Methods (in the Cheat Sheet)"
   ]
  },
  {
   "cell_type": "markdown",
   "metadata": {},
   "source": [
    "## Module 5 Object Oriented Programming\n",
    "### 1. OOP\n",
    "1. class: is used to define idea.  \n",
    "2. object/instance: is an instance of the class.  \n",
    "3. attributes: are the characteristics of the class.  \n",
    "4. methods: are functions that are part of the class.  \n",
    "5. `dir()`: return all the attributes and methods of an object\n",
    "6. `help()`: print the documentation for the corresponding class\n",
    "### 2. Classes and Methods\n",
    "1. Classes define the behavior of all instances of a specific class.\n",
    "2. dot notation(\".\"): to access methods or attributes of the class.\n",
    "3. Each variable of a specific class is an instance or an object.\n",
    "4. Objects can have attributes, which store information about the object.\n",
    "5. Special methods start and end with `__`."
   ]
  },
  {
   "cell_type": "code",
   "execution_count": 37,
   "metadata": {},
   "outputs": [
    {
     "name": "stdout",
     "output_type": "stream",
     "text": [
      "This apple is red and its flavor is sweet\n",
      "body_of_method\n",
      "RED and SWEET!\n",
      "result\n",
      "Help on function method_name in module __main__:\n",
      "\n",
      "method_name(self, *arguments)\n",
      "    Documentation for the method.\n",
      "\n"
     ]
    }
   ],
   "source": [
    "class Apple:\n",
    "    # docstrings\n",
    "    # add documentation to our own classes, methods, and functions\n",
    "    \"\"\"this message will show when you call help(Apple).\"\"\"\n",
    "\n",
    "    # constructor\n",
    "    # def __init__(self, para)\n",
    "    # when you call the class, the constructor of that class is called.\n",
    "    # self: represents the instance.\n",
    "    def __init__(self, color, flavor):\n",
    "        self.color = color\n",
    "        self.flavor = flavor\n",
    "\n",
    "    # def __str__(self)\n",
    "    # when an object is passed to the print(), print the return value.\n",
    "    def __str__(self):\n",
    "        return \"This apple is {} and its flavor is {}\".format(self.color, self.flavor)\n",
    "\n",
    "    # methods\n",
    "    def method_name(self, *arguments):\n",
    "        \"\"\"Documentation for the method.\"\"\"\n",
    "        print(\"body_of_method\")\n",
    "        if arguments[0] == \"what\":\n",
    "            print(f\"{self.color.upper()} and {self.flavor.upper()}!\")\n",
    "        return \"result\"\n",
    "\n",
    "a_apple = Apple(\"red\", \"sweet\")\n",
    "print(a_apple)\n",
    "help(Apple.method_name)\n",
    "print(a_apple.method_name(\"what\"))\n"
   ]
  },
  {
   "cell_type": "markdown",
   "metadata": {},
   "source": [
    "### 3. Code Reuse\n",
    "1. Inheritance: create a hierarchy of classes that share a set of properties and methods by deriving a class from another class"
   ]
  },
  {
   "cell_type": "code",
   "execution_count": 39,
   "metadata": {},
   "outputs": [
    {
     "name": "stdout",
     "output_type": "stream",
     "text": [
      "hamlet.speak() = \"I'm Hamlet! Oink!\"\n"
     ]
    }
   ],
   "source": [
    "class Animal:\n",
    "    sound = \"\"\n",
    "    def __init__(self, name):\n",
    "        self.name = name\n",
    "    def speak(self):\n",
    "        return \"I'm {name}! {sound}\".format(name=self.name, sound=self.sound)\n",
    "\n",
    "# inheritance\n",
    "class Piglet(Animal):\n",
    "    sound = \"Oink!\"\n",
    "\n",
    "hamlet = Piglet(\"Hamlet\")\n",
    "print(f\"{hamlet.speak() = }\")"
   ]
  },
  {
   "cell_type": "markdown",
   "metadata": {},
   "source": [
    "2. Composition: one class makes use of code contained in another class"
   ]
  },
  {
   "cell_type": "code",
   "execution_count": 44,
   "metadata": {},
   "outputs": [
    {
     "name": "stdout",
     "output_type": "stream",
     "text": [
      "30\n"
     ]
    }
   ],
   "source": [
    "class Repository:\n",
    "     def __init__(self):\n",
    "         self.packages = {} # dictionary is also a class\n",
    "     def add_package(self, packageObj): #  takes a Package object as a parameter\n",
    "        # adds it to our dictionary, using the packageObj name attribute as the key\n",
    "         self.packages[packageObj.name] = packageObj\n",
    "     def total_size(self):\n",
    "         result = 0\n",
    "         for package in self.packages.values(): # values are packageObj\n",
    "            result += package.size\n",
    "         return result\n",
    "\n",
    "class Package:\n",
    "    def __init__(self, name, size):\n",
    "        self.name = name\n",
    "        self.size = size\n",
    "\n",
    "packageTen = Package(\"packageTen\", 10)\n",
    "packageTwenty = Package(\"packageTwenty\", 20)\n",
    "repos = Repository()\n",
    "repos.add_package(packageTen)\n",
    "repos.add_package(packageTwenty)\n",
    "print(repos.total_size())"
   ]
  },
  {
   "cell_type": "markdown",
   "metadata": {},
   "source": [
    "3. Import"
   ]
  },
  {
   "cell_type": "markdown",
   "metadata": {},
   "source": [
    "## Module 6 Final Project\n",
    "### Project description\n",
    "For this project, you'll create a \"word cloud\" from a text by writing a script. This script needs to process the text, remove punctuation, ignore case and words that do not contain all alphabets, count the frequencies, and ignore uninteresting or irrelevant words. A dictionary is the output of the `calculate_frequencies` function. The `wordcloud` module will then generate the image from your dictionary."
   ]
  }
 ],
 "metadata": {
  "kernelspec": {
   "display_name": ".venv",
   "language": "python",
   "name": "python3"
  },
  "language_info": {
   "codemirror_mode": {
    "name": "ipython",
    "version": 3
   },
   "file_extension": ".py",
   "mimetype": "text/x-python",
   "name": "python",
   "nbconvert_exporter": "python",
   "pygments_lexer": "ipython3",
   "version": "3.12.4"
  }
 },
 "nbformat": 4,
 "nbformat_minor": 2
}
